{
    "cells": [
        {
            "metadata": {
                "collapsed": true
            },
            "cell_type": "markdown",
            "source": "# Capstone Project - The Battle of Neighborhoods (Week 1)\n"
        },
        {
            "metadata": {},
            "cell_type": "markdown",
            "source": "Samuel<br>\nEnvironmental Scientist"
        },
        {
            "metadata": {},
            "cell_type": "markdown",
            "source": "Now that you have been equipped with the skills and the tools to use location data to explore a geographical location, over the course of two weeks, you will have the opportunity to be as creative as you want and come up with an idea to leverage the Foursquare location data to explore or compare neighborhoods or cities of your choice or to come up with a problem that you can use the Foursquare location data to solve. "
        },
        {
            "metadata": {},
            "cell_type": "markdown",
            "source": "## 1) A description of the problem and a discussion of the background."
        },
        {
            "metadata": {},
            "cell_type": "markdown",
            "source": "The idea of this study is to help people planning to move to the city of Toronto. The people moving would like to live in wealthy neighborhoods with either large or small populations."
        },
        {
            "metadata": {},
            "cell_type": "markdown",
            "source": "## 2) Data that will be collected"
        },
        {
            "metadata": {},
            "cell_type": "markdown",
            "source": "To provide the people moving with the necessary information, I will be combining Toronto's 2016 Census that contains Population, Average income per Neighborhood with Foursquare API to collect information on people with similar ideal living conditions."
        },
        {
            "metadata": {},
            "cell_type": "markdown",
            "source": "Toronto Neighborhoods' shapefile is publicly available at this website: https://www.toronto.ca/city-government/data-research-maps/open-data/open-data-catalogue/#a45bd45a-ede8-730e-1abc-93105b2c439f"
        },
        {
            "metadata": {},
            "cell_type": "markdown",
            "source": "Toronto's Census data is publicly available at this website: https://www.toronto.ca/city-government/data-research-maps/open-data/open-data-catalogue/#8c732154-5012-9afe-d0cd-ba3ffc813d5a"
        },
        {
            "metadata": {},
            "cell_type": "markdown",
            "source": "## 3) Methods to explain how to find solutions to the problem"
        },
        {
            "metadata": {},
            "cell_type": "markdown",
            "source": "For this report I used a few different maps that could help a new family or individual make a decision on the best neighborhood to move to in Toronto. The maps are based on income in the particular region and population. In order to do that I've used the 2016 Census information combined with choropleth maps to visually display the wealthier and more populational neighborhoods and Foursquare data to display the current restaurants in each region."
        },
        {
            "metadata": {},
            "cell_type": "markdown",
            "source": "## 4) Results from data collection and methodology"
        },
        {
            "metadata": {},
            "cell_type": "markdown",
            "source": "Comparing the maps we can notice the majority of the homes are grouped on main streets and on the south of the city, although some of the welthiest neighborhoods are up to the north. Also, the areas with a dense population reflect the number of homes."
        },
        {
            "metadata": {},
            "cell_type": "markdown",
            "source": "## 5) Discussion"
        },
        {
            "metadata": {},
            "cell_type": "markdown",
            "source": "I first decided to create this study a different way with different data, but I found clusters of homes in certain regions and the final results were better in comparison to the other data I used."
        },
        {
            "metadata": {},
            "cell_type": "markdown",
            "source": "## 5) Conclusion"
        },
        {
            "metadata": {},
            "cell_type": "markdown",
            "source": "I think this report will be an informational guide to someone moving to Toronto, and deciding to live in a wealthy area with either a large or small population."
        },
        {
            "metadata": {},
            "cell_type": "code",
            "source": "",
            "execution_count": null,
            "outputs": []
        }
    ],
    "metadata": {
        "kernelspec": {
            "name": "python3",
            "display_name": "Python 3.6",
            "language": "python"
        },
        "language_info": {
            "name": "python",
            "version": "3.6.9",
            "mimetype": "text/x-python",
            "codemirror_mode": {
                "name": "ipython",
                "version": 3
            },
            "pygments_lexer": "ipython3",
            "nbconvert_exporter": "python",
            "file_extension": ".py"
        }
    },
    "nbformat": 4,
    "nbformat_minor": 1
}